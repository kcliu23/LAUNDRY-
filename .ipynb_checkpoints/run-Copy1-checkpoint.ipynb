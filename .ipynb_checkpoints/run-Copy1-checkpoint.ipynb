{
 "cells": [
  {
   "cell_type": "code",
   "execution_count": null,
   "metadata": {},
   "outputs": [],
   "source": [
    "import matplotlib.pyplot as plt\n",
    "import serial\n",
    "#no module named serial -> pip install pyserial"
   ]
  },
  {
   "cell_type": "code",
   "execution_count": null,
   "metadata": {},
   "outputs": [],
   "source": [
    "PORT = '/dev/cu.FRUSTRATION'                   \n",
    "BAUD_RATES = 9600  \n",
    "ser = serial.Serial(PORT,BAUD_RATES)"
   ]
  },
  {
   "cell_type": "code",
   "execution_count": null,
   "metadata": {},
   "outputs": [],
   "source": [
    "\n",
    "try:[]\n",
    "    while True:\n",
    "        while ser.inWaiting():          # 若收到序列資料…\n",
    "            print(\"data coming\")\n",
    "            data_raw = ser.readline()  # 讀取一行\n",
    "            data = data_raw.decode()   # 用預設的UTF-8解碼\n",
    "            print('接收到的原始資料：', data_raw)\n",
    "            print('接收到的資料：', data)\n",
    "\n",
    "except KeyboardInterrupt:\n",
    "    ser.close()    # 清除序列通訊物件\n",
    "    print('再見！')"
   ]
  },
  {
   "cell_type": "code",
   "execution_count": null,
   "metadata": {},
   "outputs": [],
   "source": [
    "data_length = 1000#自行修改測量次數\n",
    "data_arr = ['']*(data_length+1)\n",
    "ser.flushInput()\n",
    "\n",
    "for i in range(1,data_length+1):\n",
    "    data_raw = ser.readline()\n",
    "    data = data_raw.decode()  \n",
    "    data_arr[i] = data\n",
    "    print(data)"
   ]
  },
  {
   "cell_type": "code",
   "execution_count": null,
   "metadata": {},
   "outputs": [],
   "source": [
    "# Write result to Excel\n",
    "import pandas as pd\n",
    "df = pd.DataFrame({'Frequency xyz': data_arr})\n",
    "writer = pd.ExcelWriter('exp1.xlsx', engine='xlsxwriter')\n",
    "df.to_excel(writer, sheet_name='Sheet1')\n",
    "writer.save()\n",
    "#no module named pandas -> pip install pandas"
   ]
  },
  {
   "cell_type": "code",
   "execution_count": null,
   "metadata": {},
   "outputs": [],
   "source": [
    "import bluetooth\n",
    "\n",
    "bd_addr = \"21:14:10:05:16:32\"\n",
    "\n",
    "port = 1\n",
    "\n",
    "sock = bluetooth.BluetoothSocket(bluetooth.RFCOMM)\n",
    "sock.connect((bd_addr, port))\n",
    "\n",
    "sock.send(\"1\")\n",
    "\n",
    "while(True):\n",
    "    data = sock.recv(4096)\n",
    "\n",
    "    print(data)\n",
    "\n",
    "sock.close()"
   ]
  },
  {
   "cell_type": "code",
   "execution_count": null,
   "metadata": {},
   "outputs": [],
   "source": [
    "import serial.tools\n",
    "import serial\n",
    "from serial.tools import list_ports\n",
    "\n",
    "ports = serial.tools.list_ports.comports()\n",
    "serialinst = serial.Serial()\n",
    "\n",
    "portlist = []\n",
    "\n",
    "for port in ports:\n",
    "    portlist.append(str(port))\n",
    "    print(str(port))\n",
    "\n",
    "serialinst.port = '/dev/cu.ldy'\n",
    "serialinst.baudrate = 9600\n",
    "serialinst.open()\n",
    "while True:\n",
    "    if serialinst.in_waiting:\n",
    "        packet = serialinst.readline()\n",
    "        print(packet.decode('utf-8'))"
   ]
  },
  {
   "cell_type": "code",
   "execution_count": null,
   "metadata": {},
   "outputs": [],
   "source": []
  }
 ],
 "metadata": {
  "kernelspec": {
   "display_name": "Python 3 (ipykernel)",
   "language": "python",
   "name": "python3"
  },
  "language_info": {
   "codemirror_mode": {
    "name": "ipython",
    "version": 3
   },
   "file_extension": ".py",
   "mimetype": "text/x-python",
   "name": "python",
   "nbconvert_exporter": "python",
   "pygments_lexer": "ipython3",
   "version": "3.8.13"
  }
 },
 "nbformat": 4,
 "nbformat_minor": 4
}
