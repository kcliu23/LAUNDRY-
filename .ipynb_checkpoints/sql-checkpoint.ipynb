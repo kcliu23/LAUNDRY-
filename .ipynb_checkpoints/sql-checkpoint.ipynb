{
 "cells": [
  {
   "cell_type": "code",
   "execution_count": 11,
   "id": "a62c73b3",
   "metadata": {},
   "outputs": [
    {
     "name": "stdout",
     "output_type": "stream",
     "text": [
      "connected to  8.0.31-0ubuntu0.20.04.1\n"
     ]
    }
   ],
   "source": [
    "def connect_db():\n",
    "    # 連接資料庫\n",
    "    import mysql.connector\n",
    "    from mysql.connector import Error\n",
    "\n",
    "    try:\n",
    "        connection = mysql.connector.connect(\n",
    "            host='35.77.173.217', #資料庫的host\n",
    "#             port='3306', #資料庫的port (通常會是3306)\n",
    "            database='laundry_secretary', #資料庫名稱# database='Laundry', #資料庫名稱\n",
    "            user='laundry', #資料庫使用者\n",
    "            password='12345678',# password='12345678', #資料庫密碼\n",
    "        )\n",
    "        if connection.is_connected():\n",
    "            cursor = connection.cursor()\n",
    "            print('connected to ',connection.get_server_info())\n",
    "\n",
    "    except Error as e:\n",
    "        print('資料庫連接失敗,'+'\\n'+'錯誤代碼為 '+e)\n",
    "\n",
    "    return connection, cursor    \n",
    "\n",
    "CONNECTION, CURSOR = connect_db()"
   ]
  },
  {
   "cell_type": "code",
   "execution_count": 17,
   "id": "55e98c3c",
   "metadata": {},
   "outputs": [],
   "source": [
    "#現在時間，linebot要取資料的話需要，取最近的時間\n",
    "import datetime\n",
    "import time\n",
    "def get_current_time():\n",
    "    current_time = str(datetime.datetime.now()).split('.')[0]\n",
    "    return current_time"
   ]
  },
  {
   "cell_type": "code",
   "execution_count": 18,
   "id": "94b2f3a3",
   "metadata": {},
   "outputs": [
    {
     "ename": "NameError",
     "evalue": "name '剩餘時間' is not defined",
     "output_type": "error",
     "traceback": [
      "\u001b[0;31m---------------------------------------------------------------------------\u001b[0m",
      "\u001b[0;31mNameError\u001b[0m                                 Traceback (most recent call last)",
      "Input \u001b[0;32mIn [18]\u001b[0m, in \u001b[0;36m<cell line: 3>\u001b[0;34m()\u001b[0m\n\u001b[1;32m      1\u001b[0m \u001b[38;5;66;03m#差勁資料庫\u001b[39;00m\n\u001b[1;32m      2\u001b[0m current_time \u001b[38;5;241m=\u001b[39m get_current_time()\n\u001b[0;32m----> 3\u001b[0m sql \u001b[38;5;241m=\u001b[39m \u001b[38;5;124m\"\u001b[39m\u001b[38;5;124mINSERT INTO `washer_state` (`time`, `washer_id`, `state_id`, `user_id`, `left_time`) VALUES (\u001b[39m\u001b[38;5;124m'\u001b[39m\u001b[38;5;124m\"\u001b[39m\u001b[38;5;241m+\u001b[39m\u001b[38;5;28mstr\u001b[39m(current_time)\u001b[38;5;241m+\u001b[39m\u001b[38;5;124m\"\u001b[39m\u001b[38;5;124m'\u001b[39m\u001b[38;5;124m, \u001b[39m\u001b[38;5;124m'\u001b[39m\u001b[38;5;124m001009003\u001b[39m\u001b[38;5;124m'\u001b[39m\u001b[38;5;124m, \u001b[39m\u001b[38;5;124m'\u001b[39m\u001b[38;5;124m裝置狀態\u001b[39m\u001b[38;5;124m'\u001b[39m\u001b[38;5;124m, \u001b[39m\u001b[38;5;124m'\u001b[39m\u001b[38;5;124m'\u001b[39m\u001b[38;5;124m,\u001b[39m\u001b[38;5;124m'\u001b[39m\u001b[38;5;124m\"\u001b[39m\u001b[38;5;241m+\u001b[39m\u001b[38;5;28mstr\u001b[39m(\u001b[43m剩餘時間\u001b[49m)\u001b[38;5;241m+\u001b[39m\u001b[38;5;124m\"\u001b[39m\u001b[38;5;124m'\u001b[39m\u001b[38;5;124m ); \u001b[39m\u001b[38;5;124m\"\u001b[39m \n\u001b[1;32m      4\u001b[0m CURSOR\u001b[38;5;241m.\u001b[39mexecute(sql) \n\u001b[1;32m      5\u001b[0m CONNECTION\u001b[38;5;241m.\u001b[39mcommit()\n",
      "\u001b[0;31mNameError\u001b[0m: name '剩餘時間' is not defined"
     ]
    }
   ],
   "source": [
    "#差勁資料庫\n",
    "current_time = get_current_time()\n",
    "sql = \"INSERT INTO `washer_state` (`time`, `washer_id`, `state_id`, `user_id`, `left_time`) VALUES ('\"+str(current_time)+\"', '001009003', '裝置狀態(0~4)', '','\"+str(\"剩餘時間\")+\"' ); \" \n",
    "CURSOR.execute(sql) \n",
    "CONNECTION.commit()"
   ]
  },
  {
   "cell_type": "code",
   "execution_count": null,
   "id": "bdad9cda",
   "metadata": {},
   "outputs": [],
   "source": []
  }
 ],
 "metadata": {
  "kernelspec": {
   "display_name": "Python 3 (ipykernel)",
   "language": "python",
   "name": "python3"
  },
  "language_info": {
   "codemirror_mode": {
    "name": "ipython",
    "version": 3
   },
   "file_extension": ".py",
   "mimetype": "text/x-python",
   "name": "python",
   "nbconvert_exporter": "python",
   "pygments_lexer": "ipython3",
   "version": "3.8.13"
  }
 },
 "nbformat": 4,
 "nbformat_minor": 5
}
